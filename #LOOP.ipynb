{
 "cells": [
  {
   "cell_type": "markdown",
   "id": "005fa24d",
   "metadata": {},
   "source": [
    "# LOOP"
   ]
  },
  {
   "cell_type": "code",
   "execution_count": 2,
   "id": "5b8e56f6",
   "metadata": {},
   "outputs": [
    {
     "name": "stdout",
     "output_type": "stream",
     "text": [
      "1\n",
      "2\n",
      "3\n",
      "4\n",
      "5\n",
      "6\n",
      "7\n",
      "8\n",
      "9\n",
      "10\n",
      "11\n",
      "12\n",
      "13\n",
      "14\n",
      "15\n",
      "16\n",
      "17\n",
      "18\n",
      "19\n",
      "20\n",
      "21\n",
      "22\n",
      "23\n",
      "24\n",
      "25\n",
      "26\n",
      "27\n",
      "28\n",
      "29\n",
      "30\n",
      "31\n",
      "32\n",
      "33\n",
      "34\n",
      "35\n",
      "36\n",
      "37\n",
      "38\n",
      "39\n",
      "40\n",
      "41\n",
      "42\n",
      "43\n",
      "44\n",
      "45\n",
      "46\n",
      "47\n",
      "48\n",
      "49\n",
      "50\n"
     ]
    }
   ],
   "source": [
    "#write a program to print 1 to 50.\n",
    "for i in range(1,51):\n",
    "    print(i)"
   ]
  },
  {
   "cell_type": "code",
   "execution_count": 19,
   "id": "d1a8a1d0",
   "metadata": {},
   "outputs": [
    {
     "name": "stdout",
     "output_type": "stream",
     "text": [
      "2\n",
      "count----> 1\n",
      "4\n",
      "count----> 2\n",
      "6\n",
      "count----> 3\n",
      "8\n",
      "count----> 4\n",
      "10\n",
      "count----> 5\n",
      "12\n",
      "count----> 6\n",
      "14\n",
      "count----> 7\n",
      "16\n",
      "count----> 8\n",
      "18\n",
      "count----> 9\n",
      "20\n",
      "count----> 10\n",
      "22\n",
      "count----> 11\n",
      "24\n",
      "count----> 12\n",
      "26\n",
      "count----> 13\n",
      "28\n",
      "count----> 14\n",
      "30\n",
      "count----> 15\n",
      "32\n",
      "count----> 16\n",
      "34\n",
      "count----> 17\n",
      "36\n",
      "count----> 18\n",
      "38\n",
      "count----> 19\n",
      "40\n",
      "count----> 20\n",
      "42\n",
      "count----> 21\n",
      "44\n",
      "count----> 22\n",
      "46\n",
      "count----> 23\n",
      "48\n",
      "count----> 24\n",
      "50\n",
      "count----> 25\n"
     ]
    }
   ],
   "source": [
    "#write a programm to print 1 to 50.and count the even and odd values separately .\n",
    "count=0\n",
    "for i in range(1,51):\n",
    "    if i%2==0:\n",
    "        print(i)\n",
    "        count=count+1\n",
    "        print(\"count---->\",count)"
   ]
  },
  {
   "cell_type": "code",
   "execution_count": 20,
   "id": "1ead8636",
   "metadata": {},
   "outputs": [
    {
     "name": "stdout",
     "output_type": "stream",
     "text": [
      "1\n",
      "count----> 1\n",
      "3\n",
      "count----> 2\n",
      "5\n",
      "count----> 3\n",
      "7\n",
      "count----> 4\n",
      "9\n",
      "count----> 5\n",
      "11\n",
      "count----> 6\n",
      "13\n",
      "count----> 7\n",
      "15\n",
      "count----> 8\n",
      "17\n",
      "count----> 9\n",
      "19\n",
      "count----> 10\n",
      "21\n",
      "count----> 11\n",
      "23\n",
      "count----> 12\n",
      "25\n",
      "count----> 13\n",
      "27\n",
      "count----> 14\n",
      "29\n",
      "count----> 15\n",
      "31\n",
      "count----> 16\n",
      "33\n",
      "count----> 17\n",
      "35\n",
      "count----> 18\n",
      "37\n",
      "count----> 19\n",
      "39\n",
      "count----> 20\n",
      "41\n",
      "count----> 21\n",
      "43\n",
      "count----> 22\n",
      "45\n",
      "count----> 23\n",
      "47\n",
      "count----> 24\n",
      "49\n",
      "count----> 25\n"
     ]
    }
   ],
   "source": [
    "count=0\n",
    "for i in range(1,51):\n",
    "    if i%2!=0:\n",
    "        print(i)\n",
    "        count=count+1\n",
    "        print(\"count---->\",count)\n",
    "\n"
   ]
  },
  {
   "cell_type": "code",
   "execution_count": 22,
   "id": "e8d664db",
   "metadata": {},
   "outputs": [
    {
     "name": "stdout",
     "output_type": "stream",
     "text": [
      "-1\n",
      "0\n",
      "1\n",
      "2\n",
      "3\n",
      "4\n",
      "5\n",
      "6\n",
      "7\n",
      "8\n",
      "9\n",
      "10\n"
     ]
    }
   ],
   "source": [
    "#write a programm to print -1 to 10.\n",
    "for i in range(-1,11):\n",
    "    print(i)"
   ]
  },
  {
   "cell_type": "code",
   "execution_count": 28,
   "id": "16e19a2a",
   "metadata": {},
   "outputs": [
    {
     "name": "stdout",
     "output_type": "stream",
     "text": [
      "1\n",
      "3\n",
      "5\n",
      "7\n",
      "9\n",
      "11\n",
      "13\n",
      "15\n",
      "17\n",
      "19\n",
      "21\n",
      "23\n",
      "25\n",
      "27\n",
      "29\n",
      "31\n",
      "33\n",
      "35\n",
      "37\n",
      "39\n",
      "41\n",
      "43\n",
      "45\n",
      "47\n",
      "49\n"
     ]
    }
   ],
   "source": [
    "#write a programm to print 1 to 50 in a way to skip a number.\n",
    "for i in range(1,51,2):\n",
    "    print(i)\n",
    "    "
   ]
  },
  {
   "cell_type": "code",
   "execution_count": null,
   "id": "fdb10f04",
   "metadata": {},
   "outputs": [],
   "source": []
  }
 ],
 "metadata": {
  "kernelspec": {
   "display_name": "Python 3 (ipykernel)",
   "language": "python",
   "name": "python3"
  },
  "language_info": {
   "codemirror_mode": {
    "name": "ipython",
    "version": 3
   },
   "file_extension": ".py",
   "mimetype": "text/x-python",
   "name": "python",
   "nbconvert_exporter": "python",
   "pygments_lexer": "ipython3",
   "version": "3.9.13"
  }
 },
 "nbformat": 4,
 "nbformat_minor": 5
}
